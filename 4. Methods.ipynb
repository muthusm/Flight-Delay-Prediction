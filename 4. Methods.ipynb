{
  "nbformat": 4,
  "nbformat_minor": 0,
  "metadata": {
    "colab": {
      "name": "Methods.ipynb",
      "provenance": []
    },
    "kernelspec": {
      "name": "python3",
      "display_name": "Python 3"
    },
    "language_info": {
      "name": "python"
    }
  },
  "cells": [
    {
      "cell_type": "markdown",
      "source": [
        "**Summary**\n",
        "\n",
        "We did our entire project on Azure Databricks. This project can be run only on that platform with the required data. \n",
        "\n",
        "**Data Download**\n",
        "\n",
        "\n",
        "The data was downloaded from https://www.transtats.bts.gov/DL_SelectFields.aspx?gnoyr_VQ=FGJ&QO_fu146_anzr=b0-gvzr.\n",
        "\n",
        "\n",
        "*   50 million flights\n",
        "*   20 airlines\n",
        "*   22 gigabytes\n",
        "*   Duration : Jan 2012 - Dec 2019\n",
        "\n",
        "\n",
        "\n"
      ],
      "metadata": {
        "id": "UloO7wecHQ4C"
      }
    },
    {
      "cell_type": "markdown",
      "source": [
        "**Data Merging** \n",
        "\n",
        "We then concatenated all the files under a folder called Data in azure cluster VM terminal. We used this command to concatenate csv files to a single csv. The output file is of 22 GB "
      ],
      "metadata": {
        "id": "pSXovnXIJXKj"
      }
    },
    {
      "cell_type": "markdown",
      "source": [
        " *(select headers from first file and omit header from other files)*\n",
        "\n",
        "awk 'FNR==1 && NR!=1{next;}{print}' file1.csv file2.csv ... file_n.csv > output.csv"
      ],
      "metadata": {
        "id": "2sD-_isQKFbX"
      }
    },
    {
      "cell_type": "markdown",
      "source": [
        "**Uploading Data to Azure Blob Storage**\n",
        "\n",
        "1. Created new container in Azure blob storage\n",
        "2. Uploaded the entire concatenated data file ~ time taken 60 minutes.\n",
        "\n",
        "\n",
        "\n",
        "\n",
        "\n",
        "\n",
        "\n"
      ],
      "metadata": {
        "id": "SNu0bospKNvc"
      }
    },
    {
      "cell_type": "markdown",
      "source": [
        "We then created the azure data bricks workspace and imported the data from azure blob storage. After the import, we created a table using this data in azure databricks database."
      ],
      "metadata": {
        "id": "hACr6RWMKung"
      }
    },
    {
      "cell_type": "markdown",
      "source": [
        "We made the data available in databricks environment for creating our models"
      ],
      "metadata": {
        "id": "veAffKEjLJV3"
      }
    },
    {
      "cell_type": "markdown",
      "source": [
        "We created cluster of 8 vCPU cores and configured **spark** in the cluster. We can read the data from the table as a spark data frame"
      ],
      "metadata": {
        "id": "FZEof922LTht"
      }
    },
    {
      "cell_type": "markdown",
      "source": [
        "\n",
        "In this project we look at the major airports in the United States with their flight delay. Flight delays inconvenience the passengers in running their schedules efficiently, especially those in the business sector, entrepreneurs, etc.Our goal is to use exploratory analysis and build a machine learning model to predict airline arrival delay. \n",
        "\n",
        "We addressed the following questions:\n",
        "1. How does weather predict plane delays\n",
        "2. What is the optimal time of day of the week or time of the years that is best to fly with minimal delays\n",
        "3. Which flight carrier is prone to delays"
      ],
      "metadata": {
        "id": "RpvFHYRWLc6U"
      }
    },
    {
      "cell_type": "markdown",
      "source": [
        "**How does weather predict plane delays**\n",
        "\n",
        "The first question we wanted to address was to see if we can predict the arrival delay given the flight had a departure delay due to weather. To address this question, we wanted  to first categorize this as a regression learning task. The target column was the arrival delay in minutes. We selected features like City, State, Destination, Distance, Origin Airport and Delay with Weather. There were certain string types which we converted to numerics with the String Indexer. This helped us to create a model to predict the arrival delays and the model had an accuracy of 95%. With this model we can predict the arrival delay given the flight had a departure delay due to weather.\n"
      ],
      "metadata": {
        "id": "I8fufIcsMxhx"
      }
    },
    {
      "cell_type": "code",
      "source": [
        "weatherDelayModel_results = weatherDelayModel.evaluate(test_data)\n",
        "print(f'RSquared Error {weatherDelayModel_results.r2}\\nAccuracy {weatherDelayModel_results.r2:.2%}')"
      ],
      "metadata": {
        "application/vnd.databricks.v1+cell": {
          "title": "",
          "showTitle": false,
          "inputWidgets": {},
          "nuid": "cf0aae2f-533c-4769-bcc0-226eb54737ff"
        },
        "id": "hAR36fa1NWtd",
        "outputId": "1dbf1662-4133-4a99-8c67-1c84eead151f"
      },
      "outputs": [
        {
          "output_type": "display_data",
          "metadata": {
            "application/vnd.databricks.v1+output": {
              "datasetInfos": [],
              "data": "<div class=\"ansiout\">RSquared Error 0.952493560905543\nAccuracy 95.25%\n</div>",
              "removedWidgets": [],
              "addedWidgets": {},
              "metadata": {},
              "type": "html",
              "arguments": {}
            }
          },
          "data": {
            "text/html": [
              "<style scoped>\n  .ansiout {\n    display: block;\n    unicode-bidi: embed;\n    white-space: pre-wrap;\n    word-wrap: break-word;\n    word-break: break-all;\n    font-family: \"Source Code Pro\", \"Menlo\", monospace;;\n    font-size: 13px;\n    color: #555;\n    margin-left: 4px;\n    line-height: 19px;\n  }\n</style>\n<div class=\"ansiout\">RSquared Error 0.952493560905543\nAccuracy 95.25%\n</div>"
            ]
          }
        }
      ],
      "execution_count": null
    },
    {
      "cell_type": "markdown",
      "source": [
        "(for full code, refer 1. How does weather predict plane delays.ipynb from results folder)"
      ],
      "metadata": {
        "id": "TENAnGDCOK6w"
      }
    },
    {
      "cell_type": "markdown",
      "source": [
        "**What is the optimal time of day of the week or time of the years that is best to fly with minimal delays**\n",
        "\n",
        "We then looked at  the flights that had a  minimal delay. The departure delay in minutes was the target column and it is a classification task. The features for this model were City, State, Destination, Distance, Origin Airport, Delay with weather and the string types were converted to numerics with string indexer. This model is used to predict the arrival delays and we achieved an AUC of 0.5. With this model, we could classify whether the given flight will have minimum flight delay or not for a particular departure origin airport.\n"
      ],
      "metadata": {
        "id": "wMFgmIpRNpSC"
      }
    },
    {
      "cell_type": "code",
      "source": [
        "evaluator = BinaryClassificationEvaluator(rawPredictionCol='prediction', labelCol='isMinimalDelay')\n",
        "auc = evaluator.evaluate(pred_and_labels.predictions)\n",
        "auc"
      ],
      "metadata": {
        "application/vnd.databricks.v1+cell": {
          "title": "",
          "showTitle": false,
          "inputWidgets": {},
          "nuid": "7caa3086-5eb8-418a-8710-936ea01829cb"
        },
        "id": "FCSNexoYcniU",
        "outputId": "3766fda9-5c46-4a99-802c-277b7fa4e393"
      },
      "outputs": [
        {
          "output_type": "display_data",
          "metadata": {
            "application/vnd.databricks.v1+output": {
              "datasetInfos": [],
              "data": "<div class=\"ansiout\">Out[106]: 0.5</div>",
              "removedWidgets": [],
              "addedWidgets": {},
              "metadata": {},
              "type": "html",
              "arguments": {}
            }
          },
          "data": {
            "text/html": [
              "<style scoped>\n  .ansiout {\n    display: block;\n    unicode-bidi: embed;\n    white-space: pre-wrap;\n    word-wrap: break-word;\n    word-break: break-all;\n    font-family: \"Source Code Pro\", \"Menlo\", monospace;;\n    font-size: 13px;\n    color: #555;\n    margin-left: 4px;\n    line-height: 19px;\n  }\n</style>\n<div class=\"ansiout\">Out[106]: 0.5</div>"
            ]
          }
        }
      ],
      "execution_count": null
    },
    {
      "cell_type": "markdown",
      "source": [
        "(for full code, refer 2. Optimal time that is best to fly with minimal delays.ipynbb from results folder)"
      ],
      "metadata": {
        "id": "qltsdgtRQ9wa"
      }
    },
    {
      "cell_type": "markdown",
      "source": [
        "**Predicting Delayed Flights**\n",
        "\n",
        "The random forest model can predict/classify whether the given flight will have departure delays or not. We created the target column(is_delayed) using the departure delay in minutes column. If the departure delay is >15, the target column is set as 1 else 0. he features for this model were City, State, Destination, Distance, Origin Airport, Reporting airline and the string types were converted to numerics with string indexer."
      ],
      "metadata": {
        "id": "FsWvj5siRPfg"
      }
    },
    {
      "cell_type": "code",
      "source": [
        "from pyspark.ml.evaluation import BinaryClassificationEvaluator as BCE\n",
        "\n",
        "print('AUC=',BCE(labelCol=\"isDelayed\", metricName=\"areaUnderROC\", rawPredictionCol='probability').evaluate(pred))"
      ],
      "metadata": {
        "application/vnd.databricks.v1+cell": {
          "title": "",
          "showTitle": false,
          "inputWidgets": {},
          "nuid": "2d529dc9-1e37-4950-8f8e-6e611b6c2b8c"
        },
        "id": "AChEQQeRL-Qt",
        "outputId": "39a15459-cf83-4904-eb3e-7023e8972524"
      },
      "outputs": [
        {
          "output_type": "display_data",
          "metadata": {
            "application/vnd.databricks.v1+output": {
              "datasetInfos": [],
              "data": "<div class=\"ansiout\">AUC= 0.8607323187703639\n</div>",
              "removedWidgets": [],
              "addedWidgets": {},
              "metadata": {},
              "type": "html",
              "arguments": {}
            }
          },
          "data": {
            "text/html": [
              "<style scoped>\n  .ansiout {\n    display: block;\n    unicode-bidi: embed;\n    white-space: pre-wrap;\n    word-wrap: break-word;\n    word-break: break-all;\n    font-family: \"Source Code Pro\", \"Menlo\", monospace;;\n    font-size: 13px;\n    color: #555;\n    margin-left: 4px;\n    line-height: 19px;\n  }\n</style>\n<div class=\"ansiout\">AUC= 0.8607323187703639\n</div>"
            ]
          }
        }
      ],
      "execution_count": null
    },
    {
      "cell_type": "markdown",
      "source": [
        "(for full code, refer 3. Predicting Delayed Flights from results folder)"
      ],
      "metadata": {
        "id": "IWBzOS53XTxb"
      }
    }
  ]
}